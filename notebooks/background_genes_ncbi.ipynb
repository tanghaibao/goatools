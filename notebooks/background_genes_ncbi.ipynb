{
 "cells": [
  {
   "cell_type": "markdown",
   "metadata": {},
   "source": [
    "# How to download background genes from NCBI\n",
    "\n",
    "## Example\n",
    "### 1) Download mouse (TaxID=10090) protein-coding genes\n",
    "1. **Query [NCBI Gene](https://www.ncbi.nlm.nih.gov/gene):**    \n",
    "   `\"10090\"[Taxonomy ID] AND alive[property] AND genetype protein coding[Properties]`\n",
    "2. **Click \"Send to:\"**\n",
    "3. **Select \"File\"**\n",
    "4. **Select \"Create File\" button**\n",
    "   The default name of the tsv file is `gene_result.txt`\n",
    "\n",
    "Note: To download all mouse DNA items:    \n",
    "`\"10090\"[Taxonomy ID] AND alive[property]`\n",
    "\n",
    "![](images/dnld_mouse_pcd_genes.png)\n",
    "\n",
    "## 2) Convert NCBI Gene tsv file to a Python module\n",
    "\n",
    "**A goatools Python script will convert a NCBI Gene tsv file to a Python module:**\n",
    "```\n",
    "$ scripts/ncbi_gene_results_to_python.py gene_result.txt -o genes_ncbi_10090_proteincoding.py\n",
    "gene_result.txt genes_ncbi_10090_proteincoding.py\n",
    "      26058 lines READ:  gene_result.txt\n",
    "      26033 geneids WROTE: genes_ncbi_10090_proteincoding.py\n",
    "```\n",
    "\n",
    "## 3) Import NCBI data from Python module\n",
    "```\n",
    "$ python3\n",
    ">>> from genes_ncbi_10090_proteincoding import GENEID2NT\n",
    ">>> print(len(GENEID2NT))\n",
    "26033\n",
    "\n",
    "```\n",
    "\n",
    "Copyright (C) 2016-present, DV Klopfenstein, H Tang. All rights reserved."
   ]
  }
 ],
 "metadata": {
  "kernelspec": {
   "display_name": "Python 3",
   "language": "python",
   "name": "python3"
  },
  "language_info": {
   "codemirror_mode": {
    "name": "ipython",
    "version": 3
   },
   "file_extension": ".py",
   "mimetype": "text/x-python",
   "name": "python",
   "nbconvert_exporter": "python",
   "pygments_lexer": "ipython3",
   "version": "3.6.7"
  }
 },
 "nbformat": 4,
 "nbformat_minor": 2
}
